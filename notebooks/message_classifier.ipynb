{
 "cells": [
  {
   "cell_type": "code",
   "execution_count": 1,
   "metadata": {
    "colab": {
     "base_uri": "https://localhost:8080/",
     "height": 408
    },
    "colab_type": "code",
    "id": "k6fe7rlH3tsn",
    "outputId": "26c9f0dd-a2c3-4592-e9be-91d7bd2647ba"
   },
   "outputs": [
    {
     "data": {
      "text/plain": [
       "<bound method NDFrame.head of                                       message_text message_type\n",
       "0                                   Hi, I am Sasha         fact\n",
       "1                    Where is the nearest library?     question\n",
       "2                                          I am 21         fact\n",
       "3                             She works in library         fact\n",
       "4                         it is quite unbeliavable        trash\n",
       "5                    book me a table in restaurant      request\n",
       "6          remind me to drink water in few minutes      request\n",
       "7                    how to get to the city centre     question\n",
       "8                              i come from ukraine         fact\n",
       "9                                         ho ho ho        trash\n",
       "10                                           hello        trash\n",
       "11                                 my name is Kate         fact\n",
       "12                                    good morning        trash\n",
       "13                                 she is not here         fact\n",
       "14                                my hair is white         fact\n",
       "15                           when is your birthday     question\n",
       "16                  i was 21 when i wrote this bot         fact\n",
       "17                  when i wrote this bot i was 21         fact\n",
       "18                when will the quarantine be over     question\n",
       "19                          how long is this film?     question\n",
       "20                            what day is it today     question\n",
       "21                what is love, baby dont hurt me\"        trash\n",
       "22                           how much is wix stock      request\n",
       "23           remind me to drink water in 5 minutes      request\n",
       "24                     how much is wix stock today      request\n",
       "25                     how much is wix stock today      request\n",
       "26              remind me to go to sleep in 1 hour      request\n",
       "27           remind me to drink water in 5 minutes      request\n",
       "28                           how much is wix stock      request\n",
       "29  remind me to watch spacex launch in 50 minutes      request\n",
       "30                           how much is wix stock      request\n",
       "31              remind me to do plank in 5 minutes      request\n",
       "32           remind me to drink water in 5 minutes      request\n",
       "33           remind me to drink water in 5 minutes      request\n",
       "34     please, remind me about roots in 10 minutes      request\n",
       "35           remind me to drink water in 5 minutes      request\n",
       "36         remind me to water plants in 10 minutes      request\n",
       "37           remind me to drink water in 5 minutes      request\n",
       "38                           how much is wix stock      request\n",
       "39           remind me to drink water in 5 minutes      request>"
      ]
     },
     "execution_count": 1,
     "metadata": {},
     "output_type": "execute_result"
    }
   ],
   "source": [
    "import pandas as pd\n",
    "import numpy as np\n",
    "data = pd.read_csv('https://raw.githubusercontent.com/olexandryermilov/deeploma/master/datasets/messages.csv')\n",
    "data.head"
   ]
  },
  {
   "cell_type": "code",
   "execution_count": 3,
   "metadata": {
    "colab": {
     "base_uri": "https://localhost:8080/",
     "height": 85
    },
    "colab_type": "code",
    "id": "0PgLUqQFANjs",
    "outputId": "224b982f-e317-490d-931d-b8797435d262"
   },
   "outputs": [
    {
     "data": {
      "text/plain": [
       "array(['fact', 'question', 'fact', 'fact', 'trash', 'request', 'request',\n",
       "       'question', 'fact', 'trash', 'trash', 'fact', 'trash', 'fact',\n",
       "       'fact', 'question', 'fact', 'fact', 'question', 'question',\n",
       "       'question', 'trash', 'request', 'request', 'request', 'request',\n",
       "       'request', 'request', 'request', 'request', 'request', 'request',\n",
       "       'request', 'request', 'request', 'request', 'request', 'request',\n",
       "       'request', 'request'], dtype=object)"
      ]
     },
     "execution_count": 3,
     "metadata": {},
     "output_type": "execute_result"
    }
   ],
   "source": [
    "X_train = data['message_text'].values\n",
    "Y_train = data['message_type'].values\n",
    "Y_train"
   ]
  },
  {
   "cell_type": "code",
   "execution_count": 4,
   "metadata": {
    "colab": {
     "base_uri": "https://localhost:8080/",
     "height": 51
    },
    "colab_type": "code",
    "id": "JTv6k_WYIcx1",
    "outputId": "cbfc3996-3135-40c8-ceb3-6ffb19ab308d"
   },
   "outputs": [
    {
     "name": "stderr",
     "output_type": "stream",
     "text": [
      "[nltk_data] Downloading package stopwords to\n",
      "[nltk_data]     /Users/oleksandry/nltk_data...\n",
      "[nltk_data]   Unzipping corpora/stopwords.zip.\n"
     ]
    }
   ],
   "source": [
    "import nltk\n",
    "nltk.download('stopwords')\n",
    "from nltk.corpus import stopwords"
   ]
  },
  {
   "cell_type": "code",
   "execution_count": 5,
   "metadata": {
    "colab": {},
    "colab_type": "code",
    "id": "fJ9ZNez9IWvK"
   },
   "outputs": [],
   "source": [
    "import re\n",
    "REPLACE_BY_SPACE_RE = re.compile('[/(){}\\[\\]\\|@,;]')\n",
    "BAD_SYMBOLS_RE = re.compile('[^0-9a-z #+_]')\n",
    "STOPWORDS = set(stopwords.words('english'))\n",
    "\n",
    "def text_prepare(text):\n",
    "    \"\"\"\n",
    "        text: a string\n",
    "        \n",
    "        return: modified initial string\n",
    "    \"\"\"\n",
    "    text = text.lower()# lowercase text\n",
    "    text = re.sub(REPLACE_BY_SPACE_RE,\" \", text)# replace REPLACE_BY_SPACE_RE symbols by space in text\n",
    "    text = re.sub(BAD_SYMBOLS_RE,\"\", text)# delete symbols which are in BAD_SYMBOLS_RE from text\n",
    "    text = re.sub('  ', ' ', text)\n",
    "    text = re.sub('  ', ' ', text)\n",
    "    #text = ' '.join(list(filter(lambda x: x not in STOPWORDS, text.split(\" \")))) # delete stopwords from text\n",
    "    return text"
   ]
  },
  {
   "cell_type": "code",
   "execution_count": 6,
   "metadata": {
    "colab": {},
    "colab_type": "code",
    "id": "RhVBp_Y5VIom"
   },
   "outputs": [],
   "source": [
    "def my_bag_of_words(text, words_to_index, dict_size):\n",
    "    \"\"\"\n",
    "        text: a string\n",
    "        dict_size: size of the dictionary\n",
    "        \n",
    "        return a vector which is a bag-of-words representation of 'text'\n",
    "    \"\"\"\n",
    "    result_vector = np.zeros(dict_size)\n",
    "    for x in text_prepare(text).split(\" \"):\n",
    "      if(x in words_to_index):\n",
    "        result_vector.itemset(words_to_index[x], 1)\n",
    "    return result_vector"
   ]
  },
  {
   "cell_type": "code",
   "execution_count": 7,
   "metadata": {
    "colab": {},
    "colab_type": "code",
    "id": "tBhg48bXxsXb"
   },
   "outputs": [],
   "source": [
    "def countQuestions(text):\n",
    "  x = 0\n",
    "  for char in text:\n",
    "    if char == '?':\n",
    "      x = x + 1\n",
    "  return x    "
   ]
  },
  {
   "cell_type": "code",
   "execution_count": 8,
   "metadata": {
    "colab": {},
    "colab_type": "code",
    "id": "sFmim7FOCrbj"
   },
   "outputs": [],
   "source": [
    "def count_wh_words(text):\n",
    "  x = 0\n",
    "  for word in text_prepare(text).split(' '):\n",
    "    if(word == 'when' or word == 'who' or word == 'why' or word =='whom' or word == 'where'):\n",
    "      x = x + 1\n",
    "  return x     "
   ]
  },
  {
   "cell_type": "code",
   "execution_count": 9,
   "metadata": {
    "colab": {},
    "colab_type": "code",
    "id": "q6J4kCiWWEC9"
   },
   "outputs": [],
   "source": [
    "words = [x for item in X_train for x in text_prepare(item).split(' ') ]\n",
    "unique, counts = np.unique(words, return_counts=True)\n",
    "words_counts= dict(zip(unique, counts))\n",
    "DICT_SIZE = 5000\n",
    "most_common_words = sorted(words_counts.items(), key=lambda x: x[1], reverse=True)[:DICT_SIZE]\n",
    "WORDS_TO_INDEX = {j:i for i,j in enumerate(words_counts)}\n",
    "INDEX_TO_WORDS = {i:j for i,j in enumerate(words_counts)}\n",
    "ALL_WORDS = WORDS_TO_INDEX.keys()"
   ]
  },
  {
   "cell_type": "code",
   "execution_count": 10,
   "metadata": {
    "colab": {
     "base_uri": "https://localhost:8080/",
     "height": 34
    },
    "colab_type": "code",
    "id": "_d6-AS5mYtrD",
    "outputId": "a156e874-90fb-417e-dcf7-0b14973ed554"
   },
   "outputs": [
    {
     "data": {
      "text/plain": [
       "dict_keys(['fact', 'question', 'request', 'trash'])"
      ]
     },
     "execution_count": 10,
     "metadata": {},
     "output_type": "execute_result"
    }
   ],
   "source": [
    "unique_t, counts_t = np.unique([x for x in Y_train], return_counts=True)\n",
    "tags_counts = dict(zip(unique_t, counts_t))\n",
    "tags_counts.keys()"
   ]
  },
  {
   "cell_type": "code",
   "execution_count": 0,
   "metadata": {
    "colab": {},
    "colab_type": "code",
    "id": "5d9Zptzmzz4d"
   },
   "outputs": [],
   "source": [
    "def prepare_text_for_model(text):\n",
    "  bow = my_bag_of_words(text, WORDS_TO_INDEX, DICT_SIZE)\n",
    "  questions = np.array([countQuestions(text)])\n",
    "  wh_words = np.array([count_wh_words(text)])\n",
    "  return sp_sparse.csr_matrix(np.concatenate((bow, np.concatenate((questions, wh_words)))))"
   ]
  },
  {
   "cell_type": "code",
   "execution_count": 11,
   "metadata": {
    "colab": {
     "base_uri": "https://localhost:8080/",
     "height": 34
    },
    "colab_type": "code",
    "id": "jhkuAcSyYBgR",
    "outputId": "578e83e5-da2d-4a1d-d196-4b21d30af8a6"
   },
   "outputs": [
    {
     "name": "stdout",
     "output_type": "stream",
     "text": [
      "X_train shape  (22, 5002)\n"
     ]
    }
   ],
   "source": [
    "from scipy import sparse as sp_sparse\n",
    "X_train_mybag = sp_sparse.vstack([prepare_text_for_model(text) for text in X_train])\n",
    "X_train_mybag.shape"
   ]
  },
  {
   "cell_type": "code",
   "execution_count": 0,
   "metadata": {
    "colab": {},
    "colab_type": "code",
    "id": "IVY6uK9cYVa8"
   },
   "outputs": [],
   "source": [
    "from sklearn.preprocessing import MultiLabelBinarizer\n",
    "mlb = MultiLabelBinarizer(classes=sorted(tags_counts.keys()))\n",
    "TAGS_FOR_INDEX = {j:i for i,j in enumerate(tags_counts)}\n",
    "INDEX_TO_TAGS = {i:j for i,j in enumerate(tags_counts)}\n",
    "y_train = [TAGS_FOR_INDEX[x] for x in Y_train]"
   ]
  },
  {
   "cell_type": "code",
   "execution_count": 0,
   "metadata": {
    "colab": {},
    "colab_type": "code",
    "id": "7qs9CFlcZNed"
   },
   "outputs": [],
   "source": [
    "from sklearn.tree import DecisionTreeClassifier \n",
    "dtree_model = DecisionTreeClassifier(max_depth = 2).fit(X_train_mybag, y_train) "
   ]
  },
  {
   "cell_type": "code",
   "execution_count": 14,
   "metadata": {
    "colab": {
     "base_uri": "https://localhost:8080/",
     "height": 34
    },
    "colab_type": "code",
    "id": "Qk1_ZgvvauZ4",
    "outputId": "6e6b62fb-7df5-400a-f454-ab7426dac4a0"
   },
   "outputs": [
    {
     "data": {
      "text/plain": [
       "' fact'"
      ]
     },
     "execution_count": 14,
     "metadata": {
      "tags": []
     },
     "output_type": "execute_result"
    }
   ],
   "source": [
    "INDEX_TO_TAGS[dtree_model.predict(prepare_text_for_model('Hi, I am 2304123'))[0]]"
   ]
  }
 ],
 "metadata": {
  "colab": {
   "name": "message_classifier.ipynb",
   "provenance": []
  },
  "kernelspec": {
   "display_name": "Python 3",
   "language": "python",
   "name": "python3"
  },
  "language_info": {
   "codemirror_mode": {
    "name": "ipython",
    "version": 3
   },
   "file_extension": ".py",
   "mimetype": "text/x-python",
   "name": "python",
   "nbconvert_exporter": "python",
   "pygments_lexer": "ipython3",
   "version": "3.7.1"
  }
 },
 "nbformat": 4,
 "nbformat_minor": 1
}
